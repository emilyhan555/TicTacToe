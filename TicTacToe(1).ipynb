{
 "cells": [
  {
   "cell_type": "markdown",
   "metadata": {},
   "source": [
    "#### Step 1: Write a function that can print out a board. Set up your board as a list, where each index 1-9 corresponds with a number on a number pad, so you get a 3 by 3 board representation."
   ]
  },
  {
   "cell_type": "code",
   "execution_count": 1,
   "metadata": {},
   "outputs": [],
   "source": [
    "from IPython.display import clear_output\n",
    "\n",
    "def display_board(board):\n",
    "    matrix = []\n",
    "    for i in range(len(board)):\n",
    "        if (i+1)%3 == 0:\n",
    "            matrix.append(board[i-2:i+1])\n",
    "            \n",
    "    for row in range(len(matrix)):\n",
    "        for cell in range(len(matrix[row])):\n",
    "            if (cell+1) % 3 == 0:\n",
    "                print(matrix[row][cell])\n",
    "            else:\n",
    "                print(matrix[row][cell],'|',end = '',sep='')          \n",
    "            \n",
    "    pass"
   ]
  },
  {
   "cell_type": "markdown",
   "metadata": {},
   "source": [
    "#### TEST Step 1: run your function on a test version of the board list, and make adjustments as necessary"
   ]
  },
  {
   "cell_type": "code",
   "execution_count": 2,
   "metadata": {},
   "outputs": [],
   "source": [
    "#test_board = ['X','X','X','O','X','O','X','X','X']\n",
    "#display_board(test_board)"
   ]
  },
  {
   "cell_type": "markdown",
   "metadata": {},
   "source": [
    "#### Step 2: Write a function that can take in a player input and assign their marker as 'X' or 'O'. Think about using while loops to continually ask until you get a correct answer."
   ]
  },
  {
   "cell_type": "code",
   "execution_count": 3,
   "metadata": {},
   "outputs": [],
   "source": [
    "def player_input():\n",
    "    i = 1\n",
    "    while i <= 9:\n",
    "        player_input = input()\n",
    "        i += 1\n",
    "    pass"
   ]
  },
  {
   "cell_type": "markdown",
   "metadata": {},
   "source": [
    "#### TEST Step 2: run the function to make sure it returns the desired output"
   ]
  },
  {
   "cell_type": "code",
   "execution_count": 4,
   "metadata": {},
   "outputs": [],
   "source": [
    "#player_input()"
   ]
  },
  {
   "cell_type": "markdown",
   "metadata": {},
   "source": [
    "#### Step 3: Write a function that takes in the board list object, a marker ('X' or 'O'), and a desired position (number 1-9) and assigns it to the board."
   ]
  },
  {
   "cell_type": "code",
   "execution_count": 5,
   "metadata": {},
   "outputs": [],
   "source": [
    "def place_marker(board, marker, position):\n",
    "    board[position-1] = marker\n",
    "    pass"
   ]
  },
  {
   "cell_type": "markdown",
   "metadata": {},
   "source": [
    "#### TEST Step 3: run the place marker function using test parameters and display the modified board"
   ]
  },
  {
   "cell_type": "code",
   "execution_count": 6,
   "metadata": {},
   "outputs": [],
   "source": [
    "#place_marker(test_board,'$',8)\n",
    "#display_board(test_board)"
   ]
  },
  {
   "cell_type": "markdown",
   "metadata": {},
   "source": [
    "#### Step 4: Write a function that takes in a board and a mark (X or O) and then checks to see if that mark has won."
   ]
  },
  {
   "cell_type": "code",
   "execution_count": 7,
   "metadata": {},
   "outputs": [],
   "source": [
    "def win_check(board, mark):\n",
    "    matrix = []\n",
    "    for i in range(len(board)):\n",
    "        if (i+1)%3 == 0:\n",
    "            matrix.append(board[i-2:i+1])\n",
    "    \n",
    "    count1 = 0\n",
    "    count2 = 0\n",
    "    for row in range(len(matrix)):\n",
    "        count = 0\n",
    "        for col in range(len(matrix[row])):\n",
    "            if matrix[row][col] == mark:\n",
    "                count += 1\n",
    "                if row == col:\n",
    "                    count1 += 1\n",
    "                if row + col == 2:\n",
    "                    count2 += 1\n",
    "        if count == len(matrix[row]):\n",
    "            return True       \n",
    "    if count1 == 3 or count2 == 3:\n",
    "        return True\n",
    "    \n",
    "    for col in range(len(matrix[0])):\n",
    "        count3 = 0\n",
    "        for row in range(len(matrix)):\n",
    "            if matrix[row][col] == mark:\n",
    "                count3 += 1\n",
    "        if count3 == len(matrix):\n",
    "            return True\n",
    "            \n",
    "    pass"
   ]
  },
  {
   "cell_type": "markdown",
   "metadata": {},
   "source": [
    "#### TEST Step 4: run the win_check function against our test_board - it should return True"
   ]
  },
  {
   "cell_type": "code",
   "execution_count": 8,
   "metadata": {},
   "outputs": [],
   "source": [
    "#win_check(test_board,'X')"
   ]
  },
  {
   "cell_type": "markdown",
   "metadata": {},
   "source": [
    "#### Step 5: Write a function that uses the random module to randomly decide which player goes first. You may want to lookup random.randint() Return a string of which player went first."
   ]
  },
  {
   "cell_type": "code",
   "execution_count": 9,
   "metadata": {},
   "outputs": [],
   "source": [
    "import random\n",
    "\n",
    "def choose_first():\n",
    "    first = random.randint(0,1)\n",
    "    if first == 0:\n",
    "        return 'O'\n",
    "    else:\n",
    "        return 'X'\n",
    "    pass"
   ]
  },
  {
   "cell_type": "markdown",
   "metadata": {},
   "source": [
    "#### Step 6: Write a function that returns a boolean indicating whether a space on the board is freely available."
   ]
  },
  {
   "cell_type": "code",
   "execution_count": 10,
   "metadata": {},
   "outputs": [],
   "source": [
    "def space_check(board, position):\n",
    "    mark = ['X','O']\n",
    "    if board[position-1] not in mark:\n",
    "        return True\n",
    "    else:\n",
    "        return False\n",
    "    \n",
    "    pass"
   ]
  },
  {
   "cell_type": "code",
   "execution_count": 11,
   "metadata": {},
   "outputs": [],
   "source": [
    "#space_check(test_board, 8)"
   ]
  },
  {
   "cell_type": "markdown",
   "metadata": {},
   "source": [
    "#### Step 7: Write a function that checks if the board is full and returns a boolean value. True if full, False otherwise.\n"
   ]
  },
  {
   "cell_type": "code",
   "execution_count": 12,
   "metadata": {},
   "outputs": [],
   "source": [
    "\n",
    "def full_board_check(board):\n",
    "    count = 0\n",
    "    mark = ['O','X']\n",
    "    for i in range(len(board)):\n",
    "        if board[i] in mark:\n",
    "            count += 1\n",
    "    if count == len(board):\n",
    "        return True\n",
    "    else:\n",
    "        return False\n",
    "    pass"
   ]
  },
  {
   "cell_type": "code",
   "execution_count": 13,
   "metadata": {},
   "outputs": [],
   "source": [
    "#full_board_check(test_board)"
   ]
  },
  {
   "cell_type": "markdown",
   "metadata": {},
   "source": [
    "#### Step 8: Write a function that asks for a player's next position (as a number 1-9) and then uses the function from step 6 to check if it's a free position. If it is, then return the position for later use."
   ]
  },
  {
   "cell_type": "code",
   "execution_count": 14,
   "metadata": {},
   "outputs": [],
   "source": [
    "\n",
    "def player_choice(board):\n",
    "    print('Please choose your next position (1-9): ', end = '')\n",
    "    position = int(input())\n",
    "    space_check(board, position)\n",
    "    if space_check(board, position) == True:\n",
    "        return position\n",
    "    else:\n",
    "        while space_check(board, position) == False:\n",
    "            print('The spot is unavailabe.')\n",
    "            print('Please choose your next position (1-9): ', end = '')\n",
    "            position = int(input())\n",
    "            if space_check(board,position) == True:\n",
    "                return position\n",
    "        \n",
    "    pass"
   ]
  },
  {
   "cell_type": "code",
   "execution_count": 15,
   "metadata": {},
   "outputs": [],
   "source": [
    "#player_choice(test_board)"
   ]
  },
  {
   "cell_type": "markdown",
   "metadata": {},
   "source": [
    "#### Step 9: Write a function that asks the player if they want to play again and returns a boolean True if they do want to play again.\n"
   ]
  },
  {
   "cell_type": "code",
   "execution_count": 16,
   "metadata": {},
   "outputs": [],
   "source": [
    "\n",
    "def replay():\n",
    "    replay = input('Do you want to play the game again? (y/n): ')\n",
    "    while replay.upper() == 'Y':\n",
    "        return True\n",
    "    pass"
   ]
  },
  {
   "cell_type": "markdown",
   "metadata": {},
   "source": [
    "#### Step 10: Here comes the hard part! Use while loops and the functions you've made to run the game!\n",
    "\n",
    "\n"
   ]
  },
  {
   "cell_type": "code",
   "execution_count": 17,
   "metadata": {},
   "outputs": [
    {
     "name": "stdout",
     "output_type": "stream",
     "text": [
      "Welcome to Tic Tac Toe!\n",
      "Are you ready to play the game? (y/n): y\n",
      "Let's start the game!\n",
      "_|_|_\n",
      "_|_|_\n",
      "_|_|_\n",
      "O goes first!\n",
      "\n",
      "Please choose your next position (1-9): 5\n",
      "_|_|_\n",
      "_|O|_\n",
      "_|_|_\n",
      "Please choose your next position (1-9): 1\n",
      "X|_|_\n",
      "_|O|_\n",
      "_|_|_\n",
      "Please choose your next position (1-9): 4\n",
      "X|_|_\n",
      "O|O|_\n",
      "_|_|_\n",
      "Please choose your next position (1-9): 6\n",
      "X|_|_\n",
      "O|O|X\n",
      "_|_|_\n",
      "Please choose your next position (1-9): 3\n",
      "X|_|O\n",
      "O|O|X\n",
      "_|_|_\n",
      "Please choose your next position (1-9): 7\n",
      "X|_|O\n",
      "O|O|X\n",
      "X|_|_\n",
      "Please choose your next position (1-9): 2\n",
      "X|O|O\n",
      "O|O|X\n",
      "X|_|_\n",
      "Please choose your next position (1-9): 8\n",
      "X|O|O\n",
      "O|O|X\n",
      "X|X|_\n",
      "Please choose your next position (1-9): 9\n",
      "X|O|O\n",
      "O|O|X\n",
      "X|X|O\n",
      "\n",
      "Game fail!\n",
      "\n",
      "Do you want to play the game again? (y/n): y\n",
      "_|_|_\n",
      "_|_|_\n",
      "_|_|_\n",
      "O goes first!\n",
      "\n",
      "Please choose your next position (1-9): 6\n",
      "_|_|_\n",
      "_|_|O\n",
      "_|_|_\n",
      "Please choose your next position (1-9): 5\n",
      "_|_|_\n",
      "_|X|O\n",
      "_|_|_\n",
      "Please choose your next position (1-9): 2\n",
      "_|O|_\n",
      "_|X|O\n",
      "_|_|_\n",
      "Please choose your next position (1-9): 3\n",
      "_|O|X\n",
      "_|X|O\n",
      "_|_|_\n",
      "Please choose your next position (1-9): 7\n",
      "_|O|X\n",
      "_|X|O\n",
      "O|_|_\n",
      "Please choose your next position (1-9): 9\n",
      "_|O|X\n",
      "_|X|O\n",
      "O|_|X\n",
      "Please choose your next position (1-9): 1\n",
      "O|O|X\n",
      "_|X|O\n",
      "O|_|X\n",
      "Please choose your next position (1-9): 4\n",
      "O|O|X\n",
      "X|X|O\n",
      "O|_|X\n",
      "Please choose your next position (1-9): 8\n",
      "O|O|X\n",
      "X|X|O\n",
      "O|O|X\n",
      "\n",
      "Game fail!\n",
      "\n",
      "Do you want to play the game again? (y/n): y\n",
      "_|_|_\n",
      "_|_|_\n",
      "_|_|_\n",
      "X goes first!\n",
      "\n",
      "Please choose your next position (1-9): 5\n",
      "_|_|_\n",
      "_|X|_\n",
      "_|_|_\n",
      "Please choose your next position (1-9): 2\n",
      "_|O|_\n",
      "_|X|_\n",
      "_|_|_\n",
      "Please choose your next position (1-9): 1\n",
      "X|O|_\n",
      "_|X|_\n",
      "_|_|_\n",
      "Please choose your next position (1-9): 9\n",
      "X|O|_\n",
      "_|X|_\n",
      "_|_|O\n",
      "Please choose your next position (1-9): 7\n",
      "X|O|_\n",
      "_|X|_\n",
      "X|_|O\n",
      "Please choose your next position (1-9): 4\n",
      "X|O|_\n",
      "O|X|_\n",
      "X|_|O\n",
      "Please choose your next position (1-9): 3\n",
      "X|O|X\n",
      "O|X|_\n",
      "X|_|O\n",
      "\n",
      "X win!\n",
      "\n",
      "Do you want to play the game again? (y/n): n\n"
     ]
    }
   ],
   "source": [
    "print('Welcome to Tic Tac Toe!')\n",
    "\n",
    "play = input('Are you ready to play the game? (y/n): ')\n",
    "#while True:\n",
    "if play.upper() == 'Y':\n",
    "    # Set the game up here\n",
    "    print(\"Let's start the game!\")\n",
    "    #pass\n",
    "\n",
    "    #while game_on: \n",
    "board = ['_','_','_','_','_','_','_','_','_']\n",
    "display_board(board)\n",
    "mark = ['X','O']\n",
    "player1 = choose_first()\n",
    "if player1 == mark[0]:\n",
    "    player2 = mark[1]\n",
    "elif player1 == mark[1]:\n",
    "    player2 = mark[0]\n",
    "print(player1,'goes first!\\n')  \n",
    "    \n",
    "while full_board_check(board) == False:\n",
    "        #Player 1 Turn    \n",
    "        position = player_choice(board)\n",
    "        place_marker(board, player1, position)\n",
    "        display_board(board)\n",
    "        if win_check(board, player1) == True:\n",
    "            print()\n",
    "            print(player1, 'win!\\n')\n",
    "            break\n",
    "        else:\n",
    "            if full_board_check(board) == True:\n",
    "                print('\\nGame fail!\\n')\n",
    "                break\n",
    "                \n",
    "        # Player2's turn.\n",
    "        position = player_choice(board)\n",
    "        place_marker(board,player2,position)\n",
    "        display_board(board)\n",
    "        if win_check(board,player2) == True:\n",
    "            print()\n",
    "            print(player2, 'win!\\n')\n",
    "            break\n",
    "        else:\n",
    "            if full_board_check(board) == True:\n",
    "                print('\\nGame fail!\\n')\n",
    "                break\n",
    "                \n",
    "    \n",
    "while replay() == True:\n",
    "    board = ['_','_','_','_','_','_','_','_','_']\n",
    "    display_board(board)\n",
    "    mark = ['X','O']\n",
    "    player1 = choose_first()\n",
    "    if player1 == mark[0]:\n",
    "        player2 = mark[1]\n",
    "    elif player1 == mark[1]:\n",
    "        player2 = mark[0]\n",
    "    print(player1,'goes first!\\n')   \n",
    "    while full_board_check(board) == False:\n",
    "        #Player 1 Turn    \n",
    "        position = player_choice(board)\n",
    "        place_marker(board, player1, position)\n",
    "        display_board(board)\n",
    "        if win_check(board, player1) == True:\n",
    "            print()\n",
    "            print(player1, 'win!\\n')\n",
    "            break\n",
    "        else:\n",
    "            if full_board_check(board) == True:\n",
    "                print('\\nGame fail!\\n')\n",
    "                break\n",
    "                \n",
    "        # Player2's turn.\n",
    "        position = player_choice(board)\n",
    "        place_marker(board,player2,position)\n",
    "        display_board(board)\n",
    "        if win_check(board,player2) == True:\n",
    "            print()\n",
    "            print(player2, 'win!\\n')\n",
    "            break\n",
    "        else:\n",
    "            if full_board_check(board) == True:\n",
    "                print('\\nGame fail!\\n')\n",
    "                break\n",
    "            \n",
    "        #pass\n",
    "    #if not replay():   \n",
    "        #break"
   ]
  }
 ],
 "metadata": {
  "kernelspec": {
   "display_name": "Python 3",
   "language": "python",
   "name": "python3"
  },
  "language_info": {
   "codemirror_mode": {
    "name": "ipython",
    "version": 3
   },
   "file_extension": ".py",
   "mimetype": "text/x-python",
   "name": "python",
   "nbconvert_exporter": "python",
   "pygments_lexer": "ipython3",
   "version": "3.6.5"
  }
 },
 "nbformat": 4,
 "nbformat_minor": 2
}
